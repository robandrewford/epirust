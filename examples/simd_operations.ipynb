{
 "cells": [
  {
   "cell_type": "markdown",
   "metadata": {},
   "source": [
    "# EpiRust SIMD Operations Demo\n",
    "\n",
    "This notebook demonstrates the high-performance SIMD operations in EpiRust using a simulated clinical trial dataset. We'll compare the performance of SIMD-accelerated computations against traditional methods."
   ]
  },
  {
   "cell_type": "code",
   "execution_count": null,
   "metadata": {},
   "source": [
    "import numpy as np\n",
    "import pandas as pd\n",
    "import matplotlib.pyplot as plt\n",
    "import seaborn as sns\n",
    "from time import perf_counter\n",
    "import epirust  # Our Rust library\n",
    "\n",
    "# Set up plotting style\n",
    "plt.style.use('seaborn')\n",
    "sns.set_palette(\"husl\")"
   ]
  },
  {
   "cell_type": "markdown",
   "metadata": {},
   "source": [
    "## Generate Sample Clinical Trial Data\n",
    "\n",
    "We'll create a simulated dataset representing a clinical trial with two treatment arms:"
   ]
  },
  {
   "cell_type": "code",
   "execution_count": null,
   "metadata": {},
   "source": [
    "def generate_trial_data(n_patients=1000, seed=42):\n",
    "    np.random.seed(seed)\n",
    "    \n",
    "    # Generate treatment assignments\n",
    "    treatment = np.random.binomial(1, 0.5, n_patients)\n",
    "    \n",
    "    # Generate survival times\n",
    "    baseline_hazard = 0.1\n",
    "    treatment_effect = 0.7  # Hazard ratio\n",
    "    \n",
    "    # Generate survival times from exponential distribution\n",
    "    survival_times = np.random.exponential(\n",
    "        1 / (baseline_hazard * np.where(treatment, treatment_effect, 1)),\n",
    "        n_patients\n",
    "    )\n",
    "    \n",
    "    # Generate censoring times\n",
    "    censoring_times = np.random.exponential(10, n_patients)\n",
    "    \n",
    "    # Observed time is minimum of survival and censoring\n",
    "    observed_times = np.minimum(survival_times, censoring_times)\n",
    "    events = (survival_times <= censoring_times).astype(int)\n",
    "    \n",
    "    return pd.DataFrame({\n",
    "        'time': observed_times,\n",
    "        'event': events,\n",
    "        'treatment': treatment\n",
    "    })\n",
    "\n",
    "# Generate and display sample data\n",
    "df = generate_trial_data()\n",
    "df.head()"
   ]
  },
  {
   "cell_type": "markdown",
   "metadata": {},
   "source": [
    "## Prepare Data for Survival Analysis\n",
    "\n",
    "We'll compute the number at risk and number of events at each unique time point:"
   ]
  },
  {
   "cell_type": "code",
   "execution_count": null,
   "metadata": {},
   "source": [
    "def prepare_survival_data(df, group=None):\n",
    "    if group is not None:\n",
    "        df = df[df['treatment'] == group]\n",
    "        \n",
    "    # Sort by time\n",
    "    df = df.sort_values('time')\n",
    "    \n",
    "    # Get unique times and counts\n",
    "    times = df['time'].unique()\n",
    "    n_risk = []\n",
    "    n_event = []\n",
    "    \n",
    "    for t in times:\n",
    "        # Number at risk is number of subjects with time >= t\n",
    "        n_risk.append(np.sum(df['time'] >= t))\n",
    "        # Number of events is number of events at time t\n",
    "        n_event.append(np.sum((df['time'] == t) & (df['event'] == 1)))\n",
    "    \n",
    "    return np.array(n_risk, dtype=np.uint64), np.array(n_event, dtype=np.uint64)\n",
    "\n",
    "# Prepare data for both treatment groups\n",
    "n_risk_treated, n_event_treated = prepare_survival_data(df, group=1)\n",
    "n_risk_control, n_event_control = prepare_survival_data(df, group=0)\n",
    "\n",
    "print(\"Treatment group:\")\n",
    "print(f\"Number at risk: {n_risk_treated[:5]}...\")\n",
    "print(f\"Number of events: {n_event_treated[:5]}...\")\n",
    "print(\"\\nControl group:\")\n",
    "print(f\"Number at risk: {n_risk_control[:5]}...\")\n",
    "print(f\"Number of events: {n_event_control[:5]}...\")"
   ]
  },
  {
   "cell_type": "markdown",
   "metadata": {},
   "source": [
    "## Compare SIMD vs Traditional Computation\n",
    "\n",
    "Now we'll compare the performance of SIMD-accelerated survival probability calculations against a traditional Python implementation:"
   ]
  },
  {
   "cell_type": "code",
   "execution_count": null,
   "metadata": {},
   "source": [
    "def compute_survival_python(n_risk, n_event):\n",
    "    \"\"\"Traditional Python implementation\"\"\"\n",
    "    surv = np.ones(len(n_risk) + 1)\n",
    "    for i in range(len(n_risk)):\n",
    "        if n_risk[i] > 0:\n",
    "            surv[i + 1] = surv[i] * (1 - n_event[i] / n_risk[i])\n",
    "    return surv\n",
    "\n",
    "# Benchmark both implementations\n",
    "def benchmark_survival_calc(n_risk, n_event, n_runs=100):\n",
    "    # SIMD implementation\n",
    "    start = perf_counter()\n",
    "    for _ in range(n_runs):\n",
    "        surv_simd = epirust.compute.simd.SimdOperations().compute_survival_probabilities(n_risk, n_event)\n",
    "    simd_time = (perf_counter() - start) / n_runs\n",
    "    \n",
    "    # Python implementation\n",
    "    start = perf_counter()\n",
    "    for _ in range(n_runs):\n",
    "        surv_py = compute_survival_python(n_risk, n_event)\n",
    "    py_time = (perf_counter() - start) / n_runs\n",
    "    \n",
    "    return surv_simd, surv_py, simd_time, py_time\n",
    "\n",
    "# Run benchmarks\n",
    "surv_simd_treat, surv_py_treat, simd_time_treat, py_time_treat = benchmark_survival_calc(\n",
    "    n_risk_treated, n_event_treated\n",
    ")\n",
    "\n",
    "print(f\"Treatment group timing (ms):\")\n",
    "print(f\"SIMD: {simd_time_treat*1000:.3f}\")\n",
    "print(f\"Python: {py_time_treat*1000:.3f}\")\n",
    "print(f\"Speedup: {py_time_treat/simd_time_treat:.1f}x\")"
   ]
  },
  {
   "cell_type": "markdown",
   "metadata": {},
   "source": [
    "## Vector Sum Performance\n",
    "\n",
    "Let's also test the performance of SIMD vector sum operations with different data sizes:"
   ]
  },
  {
   "cell_type": "code",
   "execution_count": null,
   "metadata": {},
   "source": [
    "def benchmark_vector_sum(size, n_runs=100):\n",
    "    # Generate random data\n",
    "    data = np.random.random(size).astype(np.float64)\n",
    "    \n",
    "    # SIMD implementation\n",
    "    simd_ops = epirust.compute.simd.SimdOperations()\n",
    "    start = perf_counter()\n",
    "    for _ in range(n_runs):\n",
    "        sum_simd = simd_ops.vector_sum(data)\n",
    "    simd_time = (perf_counter() - start) / n_runs\n",
    "    \n",
    "    # NumPy implementation\n",
    "    start = perf_counter()\n",
    "    for _ in range(n_runs):\n",
    "        sum_numpy = np.sum(data)\n",
    "    numpy_time = (perf_counter() - start) / n_runs\n",
    "    \n",
    "    return simd_time, numpy_time, sum_simd, sum_numpy\n",
    "\n",
    "# Test different sizes\n",
    "sizes = [1000, 10000, 100000, 1000000]\n",
    "results = []\n",
    "\n",
    "for size in sizes:\n",
    "    simd_time, numpy_time, sum_simd, sum_numpy = benchmark_vector_sum(size)\n",
    "    results.append({\n",
    "        'size': size,\n",
    "        'simd_time': simd_time * 1000,  # Convert to ms\n",
    "        'numpy_time': numpy_time * 1000,\n",
    "        'speedup': numpy_time / simd_time,\n",
    "        'relative_error': abs(sum_simd - sum_numpy) / abs(sum_numpy)\n",
    "    })\n",
    "\n",
    "# Display results\n",
    "results_df = pd.DataFrame(results)\n",
    "print(\"Vector Sum Performance:\")\n",
    "print(results_df.to_string(index=False))"
   ]
  },
  {
   "cell_type": "markdown",
   "metadata": {},
   "source": [
    "## Visualize Performance Scaling\n",
    "\n",
    "Let's plot how the performance advantage scales with data size:"
   ]
  },
  {
   "cell_type": "code",
   "execution_count": null,
   "metadata": {},
   "source": [
    "plt.figure(figsize=(12, 6))\n",
    "\n",
    "# Plot speedup vs size\n",
    "plt.subplot(1, 2, 1)\n",
    "plt.semilogx(results_df['size'], results_df['speedup'], marker='o')\n",
    "plt.xlabel('Vector Size')\n",
    "plt.ylabel('Speedup Factor (NumPy/SIMD)')\n",
    "plt.title('SIMD Performance Advantage')\n",
    "plt.grid(True, alpha=0.3)\n",
    "\n",
    "# Plot execution times\n",
    "plt.subplot(1, 2, 2)\n",
    "plt.loglog(results_df['size'], results_df['simd_time'], marker='o', label='SIMD')\n",
    "plt.loglog(results_df['size'], results_df['numpy_time'], marker='s', label='NumPy')\n",
    "plt.xlabel('Vector Size')\n",
    "plt.ylabel('Execution Time (ms)')\n",
    "plt.title('Execution Time Scaling')\n",
    "plt.grid(True, alpha=0.3)\n",
    "plt.legend()\n",
    "\n",
    "plt.tight_layout()\n",
    "plt.show()"
   ]
  },
  {
   "cell_type": "markdown",
   "metadata": {},
   "source": [
    "## Conclusion\n",
    "\n",
    "This demonstration shows how EpiRust's SIMD operations provide significant performance benefits:\n",
    "\n",
    "1. For survival analysis:\n",
    "   - SIMD implementation is significantly faster than pure Python\n",
    "   - Maintains numerical accuracy while improving performance\n",
    "\n",
    "2. For vector operations:\n",
    "   - SIMD vector sum can outperform NumPy for certain sizes\n",
    "   - Performance advantage increases with vector size\n",
    "   - Negligible numerical differences between implementations\n",
    "\n",
    "These optimizations are particularly valuable for:\n",
    "- Large-scale epidemiological studies\n",
    "- Real-time analysis of clinical trial data\n",
    "- High-performance computing applications\n",
    "\n",
    "The SIMD implementations automatically choose the best available instruction set (AVX-512, AVX2, or SSE2) for your hardware."
   ]
  }
 ],
 "metadata": {
  "kernelspec": {
   "display_name": "Python 3",
   "language": "python",
   "name": "python3"
  },
  "language_info": {
   "codemirror_mode": {
    "name": "ipython",
    "version": 3
   },
   "file_extension": ".py",
   "mimetype": "text/x-python",
   "name": "python",
   "nbconvert_exporter": "python",
   "pygments_lexer": "ipython3",
   "version": "3.11"
  }
 },
 "nbformat": 4,
 "nbformat_minor": 4
}