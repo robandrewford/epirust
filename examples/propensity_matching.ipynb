{
 "cells": [
  {
   "cell_type": "markdown",
   "metadata": {},
   "source": [
    "# EpiRust Propensity Score Matching Demo\n",
    "\n",
    "This notebook demonstrates EpiRust's propensity score matching capabilities for causal inference in observational studies. We'll cover:\n",
    "\n",
    "1. Propensity score estimation\n",
    "2. Different matching algorithms\n",
    "3. Balance assessment\n",
    "4. Treatment effect estimation"
   ]
  },
  {
   "cell_type": "code",
   "execution_count": null,
   "metadata": {},
   "source": [
    "import numpy as np\n",
    "import pandas as pd\n",
    "import matplotlib.pyplot as plt\n",
    "import seaborn as sns\n",
    "from epirust.matching import PropensityMatcher\n",
    "from epirust.stats import BalanceStats\n",
    "\n",
    "# Set random seed and plotting style\n",
    "np.random.seed(42)\n",
    "plt.style.use('seaborn')\n",
    "sns.set_palette(\"husl\")"
   ]
  },
  {
   "cell_type": "markdown",
   "metadata": {},
   "source": [
    "## Generate Synthetic Observational Data\n",
    "\n",
    "Let's create a dataset with confounding by age, sex, and comorbidities:"
   ]
  },
  {
   "cell_type": "code",
   "execution_count": null,
   "metadata": {},
   "source": [
    "def generate_observational_data(n_samples=1000):\n",
    "    # Generate covariates\n",
    "    age = np.random.normal(50, 15, n_samples)\n",
    "    sex = np.random.binomial(1, 0.5, n_samples)\n",
    "    comorbidity_score = np.random.poisson(2, n_samples)\n",
    "    \n",
    "    # Generate treatment assignment (confounded)\n",
    "    logit = -1 + 0.03 * age + 0.5 * sex + 0.3 * comorbidity_score\n",
    "    p_treat = 1 / (1 + np.exp(-logit))\n",
    "    treatment = np.random.binomial(1, p_treat)\n",
    "    \n",
    "    # Generate outcome (affected by treatment and confounders)\n",
    "    outcome = 10 + 2 * treatment + 0.1 * age + sex + 0.5 * comorbidity_score + \\\n",
    "              np.random.normal(0, 2, n_samples)\n",
    "    \n",
    "    return pd.DataFrame({\n",
    "        'age': age,\n",
    "        'sex': sex,\n",
    "        'comorbidity_score': comorbidity_score,\n",
    "        'treatment': treatment,\n",
    "        'outcome': outcome\n",
    "    })\n",
    "\n",
    "# Generate data\n",
    "df = generate_observational_data()\n",
    "print(\"Data summary:\")\n",
    "print(df.describe())"
   ]
  },
  {
   "cell_type": "markdown",
   "metadata": {},
   "source": [
    "## Estimate Propensity Scores\n",
    "\n",
    "We'll use logistic regression to estimate propensity scores:"
   ]
  },
  {
   "cell_type": "code",
   "execution_count": null,
   "metadata": {},
   "source": [
    "# Create matcher object\n",
    "matcher = PropensityMatcher()\n",
    "\n",
    "# Estimate propensity scores\n",
    "covariates = ['age', 'sex', 'comorbidity_score']\n",
    "ps_scores = matcher.estimate_propensity_scores(df, 'treatment', covariates)\n",
    "\n",
    "# Plot propensity score distributions\n",
    "plt.figure(figsize=(10, 6))\n",
    "sns.kdeplot(data=df, x=ps_scores, hue='treatment', common_norm=False)\n",
    "plt.xlabel('Propensity Score')\n",
    "plt.title('Propensity Score Distribution by Treatment Group')\n",
    "plt.show()"
   ]
  },
  {
   "cell_type": "markdown",
   "metadata": {},
   "source": [
    "## Compare Matching Algorithms\n",
    "\n",
    "Let's try different matching approaches:"
   ]
  },
  {
   "cell_type": "code",
   "execution_count": null,
   "metadata": {},
   "source": [
    "# Perform matching with different algorithms\n",
    "algorithms = ['nearest', 'caliper', 'optimal']\n",
    "matched_dfs = {}\n",
    "\n",
    "for algo in algorithms:\n",
    "    matched_df = matcher.match(\n",
    "        df,\n",
    "        'treatment',\n",
    "        covariates,\n",
    "        method=algo,\n",
    "        caliper=0.2 if algo == 'caliper' else None\n",
    "    )\n",
    "    matched_dfs[algo] = matched_df\n",
    "    \n",
    "    print(f\"\\nMatching results for {algo}:\")\n",
    "    print(f\"Original samples: {len(df)}\")\n",
    "    print(f\"Matched samples: {len(matched_df)}\")\n",
    "    print(f\"Matched pairs: {len(matched_df) // 2}\")"
   ]
  },
  {
   "cell_type": "markdown",
   "metadata": {},
   "source": [
    "## Assess Balance\n",
    "\n",
    "Let's check the covariate balance before and after matching:"
   ]
  },
  {
   "cell_type": "code",
   "execution_count": null,
   "metadata": {},
   "source": [
    "def plot_balance(original_df, matched_df, covariates):\n",
    "    balance_stats = BalanceStats()\n",
    "    \n    # Calculate standardized differences\n",
    "    orig_diff = balance_stats.standardized_differences(original_df, 'treatment', covariates)\n",
    "    matched_diff = balance_stats.standardized_differences(matched_df, 'treatment', covariates)\n",
    "    \n",
    "    # Plot\n",
    "    plt.figure(figsize=(10, 6))\n",
    "    x = np.arange(len(covariates))\n",
    "    width = 0.35\n",
    "    \n",
    "    plt.bar(x - width/2, orig_diff, width, label='Before matching')\n",
    "    plt.bar(x + width/2, matched_diff, width, label='After matching')\n",
    "    \n",
    "    plt.axhline(y=0.1, color='r', linestyle='--', alpha=0.5)\n",
    "    plt.axhline(y=-0.1, color='r', linestyle='--', alpha=0.5)\n",
    "    \n",
    "    plt.xlabel('Covariates')\n",
    "    plt.ylabel('Standardized Difference')\n",
    "    plt.title('Covariate Balance')\n",
    "    plt.xticks(x, covariates, rotation=45)\n",
    "    plt.legend()\n",
    "    plt.tight_layout()\n",
    "    plt.show()\n",
    "\n",
    "# Plot balance for each matching algorithm\n",
    "for algo, matched_df in matched_dfs.items():\n",
    "    print(f\"\\nBalance assessment for {algo} matching:\")\n",
    "    plot_balance(df, matched_df, covariates)"
   ]
  },
  {
   "cell_type": "markdown",
   "metadata": {},
   "source": [
    "## Estimate Treatment Effects\n",
    "\n",
    "Now let's estimate the average treatment effect on the treated (ATT):"
   ]
  },
  {
   "cell_type": "code",
   "execution_count": null,
   "metadata": {},
   "source": [
    "def estimate_att(matched_df):\n",
    "    treated = matched_df[matched_df['treatment'] == 1]['outcome']\n",
    "    control = matched_df[matched_df['treatment'] == 0]['outcome']\n",
    "    \n",
    "    att = np.mean(treated) - np.mean(control)\n",
    "    se = np.sqrt(np.var(treated) / len(treated) + np.var(control) / len(control))\n",
    "    ci = (att - 1.96 * se, att + 1.96 * se)\n",
    "    \n",
    "    return att, se, ci\n",
    "\n",
    "# Calculate ATT for each matching method\n",
    "results = []\n",
    "for algo, matched_df in matched_dfs.items():\n",
    "    att, se, ci = estimate_att(matched_df)\n",
    "    results.append({\n",
    "        'Method': algo,\n",
    "        'ATT': att,\n",
    "        'SE': se,\n",
    "        'CI_lower': ci[0],\n",
    "        'CI_upper': ci[1]\n",
    "    })\n",
    "\n",
    "results_df = pd.DataFrame(results)\n",
    "print(\"Treatment Effect Estimates:\")\n",
    "print(results_df.to_string(index=False))"
   ]
  },
  {
   "cell_type": "markdown",
   "metadata": {},
   "source": [
    "## Sensitivity Analysis\n",
    "\n",
    "Let's perform sensitivity analysis for unmeasured confounding:"
   ]
  },
  {
   "cell_type": "code",
   "execution_count": null,
   "metadata": {},
   "source": [
    "# Perform Rosenbaum bounds sensitivity analysis\n",
    "gamma_values = np.linspace(1, 2, 20)\n",
    "sensitivity_results = matcher.sensitivity_analysis(\n",
    "    matched_dfs['optimal'],\n",
    "    'outcome',\n",
    "    gamma_values\n",
    ")\n",
    "\n",
    "# Plot sensitivity bounds\n",
    "plt.figure(figsize=(10, 6))\n",
    "plt.plot(gamma_values, sensitivity_results['lower_bound'], label='Lower bound')\n",
    "plt.plot(gamma_values, sensitivity_results['upper_bound'], label='Upper bound')\n",
    "plt.axhline(y=0, color='r', linestyle='--', alpha=0.5)\n",
    "plt.xlabel('Gamma (sensitivity parameter)')\n",
    "plt.ylabel('Treatment Effect')\n",
    "plt.title('Sensitivity Analysis for Unmeasured Confounding')\n",
    "plt.legend()\n",
    "plt.grid(True, alpha=0.3)\n",
    "plt.show()"
   ]
  },
  {
   "cell_type": "markdown",
   "metadata": {},
   "source": [
    "## Conclusion\n",
    "\n",
    "This notebook demonstrated EpiRust's propensity score matching capabilities:\n",
    "\n",
    "1. Different matching algorithms (nearest neighbor, caliper, optimal)\n",
    "2. Comprehensive balance assessment\n",
    "3. Treatment effect estimation\n",
    "4. Sensitivity analysis\n",
    "\n",
    "Key findings:\n",
    "- Optimal matching achieved the best covariate balance\n",
    "- Treatment effect estimates were consistent across methods\n",
    "- Results are moderately robust to unmeasured confounding"
   ]
  }
 ],
 "metadata": {
  "kernelspec": {
   "display_name": "Python 3",
   "language": "python",
   "name": "python3"
  },
  "language_info": {
   "codemirror_mode": {
    "name": "ipython",
    "version": 3
   },
   "file_extension": ".py",
   "mimetype": "text/x-python",
   "name": "python",
   "nbconvert_exporter": "python",
   "pygments_lexer": "ipython3",
   "version": "3.11"
  }
 },
 "nbformat": 4,
 "nbformat_minor": 4
}