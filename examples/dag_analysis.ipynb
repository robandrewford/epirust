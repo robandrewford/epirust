{
 "cells": [
  {
   "cell_type": "markdown",
   "metadata": {},
   "source": [
    "# EpiRust DAG Analysis Demo\n",
    "\n",
    "This notebook demonstrates causal inference and DAG (Directed Acyclic Graph) analysis capabilities in EpiRust, inspired by R's `dagitty`. We'll explore:\n",
    "\n",
    "1. Creating and visualizing DAGs\n",
    "2. Finding adjustment sets\n",
    "3. Analyzing causal paths\n",
    "4. Testing conditional independence"
   ]
  },
  {
   "cell_type": "code",
   "execution_count": null,
   "metadata": {},
   "source": [
    "import numpy as np\n",
    "import pandas as pd\n",
    "import matplotlib.pyplot as plt\n",
    "import networkx as nx\n",
    "from epirust.dag import DAGAnalyzer\n",
    "\n",
    "# Set random seed for reproducibility\n",
    "np.random.seed(42)"
   ]
  },
  {
   "cell_type": "markdown",
   "metadata": {},
   "source": [
    "## Example 1: Classic Confounding\n",
    "\n",
    "Let's create a classic confounding scenario in epidemiology: the relationship between coffee consumption and cancer, confounded by smoking."
   ]
  },
  {
   "cell_type": "code",
   "execution_count": null,
   "metadata": {},
   "source": [
    "# Create a DAG\n",
    "dag = DAGAnalyzer.new()\n",
    "dag.add_node(\"smoking\", {\"type\": \"confounder\"})\n",
    "dag.add_node(\"coffee\", {\"type\": \"exposure\"})\n",
    "dag.add_node(\"cancer\", {\"type\": \"outcome\"})\n",
    "\n",
    "# Add edges\n",
    "dag.add_edge(\"smoking\", \"coffee\")\n",
    "dag.add_edge(\"smoking\", \"cancer\")\n",
    "dag.add_edge(\"coffee\", \"cancer\")\n",
    "\n",
    "# Visualize the DAG\n",
    "dag.plot()"
   ]
  },
  {
   "cell_type": "markdown",
   "metadata": {},
   "source": [
    "## Find Minimal Adjustment Sets\n",
    "\n",
    "To estimate the causal effect of coffee on cancer, we need to adjust for confounders:"
   ]
  },
  {
   "cell_type": "code",
   "execution_count": null,
   "metadata": {},
   "source": [
    "# Find minimal adjustment sets\n",
    "adjustment_sets = dag.find_adjustment_sets(\"coffee\", \"cancer\")\n",
    "print(\"Minimal adjustment sets:\")\n",
    "for adj_set in adjustment_sets:\n",
    "    print(f\"- {adj_set}\")"
   ]
  },
  {
   "cell_type": "markdown",
   "metadata": {},
   "source": [
    "## Example 2: Mediation Analysis\n",
    "\n",
    "Let's analyze a mediation scenario: the effect of diet on heart disease, mediated by blood pressure."
   ]
  },
  {
   "cell_type": "code",
   "execution_count": null,
   "metadata": {},
   "source": [
    "# Create mediation DAG\n",
    "med_dag = DAGAnalyzer.new()\n",
    "med_dag.add_node(\"diet\", {\"type\": \"exposure\"})\n",
    "med_dag.add_node(\"blood_pressure\", {\"type\": \"mediator\"})\n",
    "med_dag.add_node(\"heart_disease\", {\"type\": \"outcome\"})\n",
    "med_dag.add_node(\"age\", {\"type\": \"confounder\"})\n",
    "\n",
    "# Add edges\n",
    "med_dag.add_edge(\"diet\", \"blood_pressure\")\n",
    "med_dag.add_edge(\"blood_pressure\", \"heart_disease\")\n",
    "med_dag.add_edge(\"diet\", \"heart_disease\")\n",
    "med_dag.add_edge(\"age\", \"diet\")\n",
    "med_dag.add_edge(\"age\", \"heart_disease\")\n",
    "\n",
    "# Visualize\n",
    "med_dag.plot()"
   ]
  },
  {
   "cell_type": "code",
   "execution_count": null,
   "metadata": {},
   "source": [
    "# Analyze direct and indirect effects\n",
    "direct_effect = med_dag.get_paths(\"diet\", \"heart_disease\", exclude_through=[\"blood_pressure\"])\n",
    "indirect_effect = med_dag.get_paths(\"diet\", \"heart_disease\", must_pass_through=[\"blood_pressure\"])\n",
    "\n",
    "print(\"Direct effect paths:\")\n",
    "for path in direct_effect:\n",
    "    print(f\"- {' -> '.join(path)}\")\n",
    "\n",
    "print(\"\\nIndirect effect paths:\")\n",
    "for path in indirect_effect:\n",
    "    print(f\"- {' -> '.join(path)}\")"
   ]
  },
  {
   "cell_type": "markdown",
   "metadata": {},
   "source": [
    "## Example 3: Instrumental Variables\n",
    "\n",
    "Let's explore an instrumental variable analysis scenario, common in epidemiological studies."
   ]
  },
  {
   "cell_type": "code",
   "execution_count": null,
   "metadata": {},
   "source": [
    "# Create IV DAG\n",
    "iv_dag = DAGAnalyzer.new()\n",
    "iv_dag.add_node(\"genetic_variant\", {\"type\": \"instrument\"})\n",
    "iv_dag.add_node(\"alcohol_consumption\", {\"type\": \"exposure\"})\n",
    "iv_dag.add_node(\"blood_pressure\", {\"type\": \"outcome\"})\n",
    "iv_dag.add_node(\"lifestyle\", {\"type\": \"confounder\"})\n",
    "\n",
    "# Add edges\n",
    "iv_dag.add_edge(\"genetic_variant\", \"alcohol_consumption\")\n",
    "iv_dag.add_edge(\"alcohol_consumption\", \"blood_pressure\")\n",
    "iv_dag.add_edge(\"lifestyle\", \"alcohol_consumption\")\n",
    "iv_dag.add_edge(\"lifestyle\", \"blood_pressure\")\n",
    "\n",
    "# Visualize\n",
    "iv_dag.plot()"
   ]
  },
  {
   "cell_type": "code",
   "execution_count": null,
   "metadata": {},
   "source": [
    "# Verify IV assumptions\n",
    "print(\"IV Relevance:\", iv_dag.has_path(\"genetic_variant\", \"alcohol_consumption\"))\n",
    "print(\"IV Independence:\", not iv_dag.has_path(\"genetic_variant\", \"blood_pressure\", \n",
    "                                              exclude_through=[\"alcohol_consumption\"]))\n",
    "print(\"IV Exclusion:\", not iv_dag.has_unblocked_path(\"genetic_variant\", \"blood_pressure\", \n",
    "                                                      [\"alcohol_consumption\"]))"
   ]
  },
  {
   "cell_type": "markdown",
   "metadata": {},
   "source": [
    "## Example 4: Time-Varying Confounding\n",
    "\n",
    "Finally, let's examine a scenario with time-varying confounding, common in longitudinal studies."
   ]
  },
  {
   "cell_type": "code",
   "execution_count": null,
   "metadata": {},
   "source": [
    "# Create time-varying DAG\n",
    "tv_dag = DAGAnalyzer.new()\n",
    "\n",
    "# Add nodes for different time points\n",
    "for t in [1, 2]:\n",
    "    tv_dag.add_node(f\"treatment_{t}\", {\"type\": \"exposure\", \"time\": t})\n",
    "    tv_dag.add_node(f\"confounder_{t}\", {\"type\": \"confounder\", \"time\": t})\n",
    "    tv_dag.add_node(f\"outcome_{t}\", {\"type\": \"outcome\", \"time\": t})\n",
    "\n",
    "# Add edges\n",
    "# Within time 1\n",
    "tv_dag.add_edge(\"confounder_1\", \"treatment_1\")\n",
    "tv_dag.add_edge(\"confounder_1\", \"outcome_1\")\n",
    "tv_dag.add_edge(\"treatment_1\", \"outcome_1\")\n",
    "\n",
    "# Time 1 to time 2\n",
    "tv_dag.add_edge(\"confounder_1\", \"confounder_2\")\n",
    "tv_dag.add_edge(\"treatment_1\", \"treatment_2\")\n",
    "tv_dag.add_edge(\"outcome_1\", \"outcome_2\")\n",
    "\n",
    "# Within time 2\n",
    "tv_dag.add_edge(\"confounder_2\", \"treatment_2\")\n",
    "tv_dag.add_edge(\"confounder_2\", \"outcome_2\")\n",
    "tv_dag.add_edge(\"treatment_2\", \"outcome_2\")\n",
    "\n",
    "# Visualize\n",
    "tv_dag.plot()"
   ]
  },
  {
   "cell_type": "code",
   "execution_count": null,
   "metadata": {},
   "source": [
    "# Analyze time-varying effects\n",
    "for t in [1, 2]:\n",
    "    print(f\"\\nTime point {t}:\")\n",
    "    adjustment_sets = tv_dag.find_adjustment_sets(f\"treatment_{t}\", f\"outcome_{t}\")\n",
    "    print(f\"Adjustment sets for treatment effect at time {t}:\")\n",
    "    for adj_set in adjustment_sets:\n",
    "        print(f\"- {adj_set}\")"
   ]
  },
  {
   "cell_type": "markdown",
   "metadata": {},
   "source": [
    "## Conclusion\n",
    "\n",
    "This notebook demonstrated EpiRust's DAG analysis capabilities for various epidemiological scenarios:\n",
    "\n",
    "1. Classic confounding analysis\n",
    "2. Mediation analysis with direct and indirect effects\n",
    "3. Instrumental variable analysis\n",
    "4. Time-varying confounding\n",
    "\n",
    "These tools help researchers:\n",
    "- Identify proper adjustment sets\n",
    "- Validate causal assumptions\n",
    "- Analyze complex causal pathways\n",
    "- Handle time-varying relationships"
   ]
  }
 ],
 "metadata": {
  "kernelspec": {
   "display_name": "Python 3",
   "language": "python",
   "name": "python3"
  },
  "language_info": {
   "codemirror_mode": {
    "name": "ipython",
    "version": 3
   },
   "file_extension": ".py",
   "mimetype": "text/x-python",
   "name": "python",
   "nbconvert_exporter": "python",
   "pygments_lexer": "ipython3",
   "version": "3.11"
  }
 },
 "nbformat": 4,
 "nbformat_minor": 4
}