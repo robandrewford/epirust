{
 "cells": [
  {
   "cell_type": "markdown",
   "metadata": {},
   "source": [
    "# EpiRust Survival Analysis Demo\n",
    "\n",
    "This notebook demonstrates EpiRust's survival analysis capabilities, including:\n",
    "\n",
    "1. Kaplan-Meier estimation\n",
    "2. Cox proportional hazards modeling\n",
    "3. Time-dependent covariates\n",
    "4. Competing risks analysis"
   ]
  },
  {
   "cell_type": "code",
   "execution_count": null,
   "metadata": {},
   "source": [
    "import numpy as np\n",
    "import pandas as pd\n",
    "import matplotlib.pyplot as plt\n",
    "import seaborn as sns\n",
    "from epirust.survival import KaplanMeier, CoxPH\n",
    "\n",
    "# Set random seed and plotting style\n",
    "np.random.seed(42)\n",
    "plt.style.use('seaborn')\n",
    "sns.set_palette(\"husl\")"
   ]
  },
  {
   "cell_type": "markdown",
   "metadata": {},
   "source": [
    "## Generate Survival Data\n",
    "\n",
    "Let's create a dataset simulating a clinical trial with time-to-event data:"
   ]
  },
  {
   "cell_type": "code",
   "execution_count": null,
   "metadata": {},
   "source": [
    "def generate_survival_data(n_patients=500):\n",
    "    # Baseline characteristics\n",
    "    age = np.random.normal(60, 10, n_patients)\n",
    "    sex = np.random.binomial(1, 0.5, n_patients)\n",
    "    treatment = np.random.binomial(1, 0.5, n_patients)\n",
    "    \n",
    "    # Generate survival times\n",
    "    lambda_0 = 0.1  # baseline hazard\n",
    "    beta = {\n",
    "        'treatment': -0.5,\n",
    "        'age': 0.02,\n",
    "        'sex': 0.3\n",
    "    }\n",
    "    \n",
    "    # Calculate individual hazards\n",
    "    log_hazard = np.log(lambda_0) + \\\n",
    "                 beta['treatment'] * treatment + \\\n",
    "                 beta['age'] * (age - 60) / 10 + \\\n",
    "                 beta['sex'] * sex\n",
    "    \n",
    "    # Generate survival times from exponential distribution\n",
    "    survival_times = np.random.exponential(1 / np.exp(log_hazard))\n",
    "    \n",
    "    # Generate censoring\n",
    "    c_times = np.random.exponential(10, n_patients)\n",
    "    observed_times = np.minimum(survival_times, c_times)\n",
    "    events = (survival_times <= c_times).astype(int)\n",
    "    \n",
    "    return pd.DataFrame({\n",
    "        'time': observed_times,\n",
    "        'event': events,\n",
    "        'treatment': treatment,\n",
    "        'age': age,\n",
    "        'sex': sex\n",
    "    })\n",
    "\n",
    "# Generate data\n",
    "df = generate_survival_data()\n",
    "print(\"Data summary:\")\n",
    "print(df.describe())"
   ]
  },
  {
   "cell_type": "markdown",
   "metadata": {},
   "source": [
    "## Kaplan-Meier Analysis\n",
    "\n",
    "Let's estimate and compare survival curves between treatment groups:"
   ]
  },
  {
   "cell_type": "code",
   "execution_count": null,
   "metadata": {},
   "source": [
    "# Create KM estimator\n",
    "km = KaplanMeier()\n",
    "\n",
    "# Fit survival curves for each treatment group\n",
    "km_treat = km.fit(df[df['treatment'] == 1]['time'],\n",
    "                  df[df['treatment'] == 1]['event'])\n",
    "km_control = km.fit(df[df['treatment'] == 0]['time'],\n",
    "                    df[df['treatment'] == 0]['event'])\n",
    "\n",
    "# Plot survival curves\n",
    "plt.figure(figsize=(10, 6))\n",
    "km.plot_survival_curves(\n",
    "    [km_treat, km_control],\n",
    "    labels=['Treatment', 'Control'],\n",
    "    show_ci=True\n",
    ")\n",
    "plt.xlabel('Time')\n",
    "plt.ylabel('Survival Probability')\n",
    "plt.title('Kaplan-Meier Survival Curves by Treatment Group')\n",
    "plt.grid(True, alpha=0.3)\n",
    "plt.show()\n",
    "\n",
    "# Log-rank test\n",
    "logrank_p = km.logrank_test(km_treat, km_control)\n",
    "print(f\"Log-rank test p-value: {logrank_p:.4f}\")"
   ]
  },
  {
   "cell_type": "markdown",
   "metadata": {},
   "source": [
    "## Cox Proportional Hazards Model\n",
    "\n",
    "Now let's fit a Cox model adjusting for covariates:"
   ]
  },
  {
   "cell_type": "code",
   "execution_count": null,
   "metadata": {},
   "source": [
    "# Fit Cox model\n",
    "cox = CoxPH()\n",
    "covariates = ['treatment', 'age', 'sex']\n",
    "model = cox.fit(df['time'], df['event'], df[covariates])\n",
    "\n",
    "# Print model results\n",
    "print(\"Cox Model Results:\")\n",
    "print(model.summary())\n",
    "\n",
    "# Test proportional hazards assumption\n",
    "ph_test = cox.test_proportional_hazards()\n",
    "print(\"\\nProportional Hazards Test:\")\n",
    "print(ph_test)"
   ]
  },
  {
   "cell_type": "markdown",
   "metadata": {},
   "source": [
    "## Time-Dependent Covariates\n",
    "\n",
    "Let's analyze a scenario with time-varying effects:"
   ]
  },
  {
   "cell_type": "code",
   "execution_count": null,
   "metadata": {},
   "source": [
    "def generate_time_dependent_data(n_patients=500):\n",
    "    # Base data\n",
    "    base_df = generate_survival_data(n_patients)\n",
    "    \n",
    "    # Generate time-dependent biomarker measurements\n",
    "    measurement_times = np.arange(0, 10, 0.5)\n",
    "    biomarker_data = []\n",
    "    \n",
    "    for _, row in base_df.iterrows():\n",
    "        times = measurement_times[measurement_times < row['time']]\n",
    "        if len(times) == 0:\n",
    "            continue\n",
    "            \n",
    "        # Generate biomarker values with time trend\n",
    "        baseline = np.random.normal(100, 20)\n",
    "        trend = 0.1 if row['treatment'] == 1 else 0.2\n",
    "        noise = np.random.normal(0, 5, len(times))\n",
    "        values = baseline + trend * times + noise\n",
    "        \n",
    "        for t, v in zip(times, values):\n",
    "            biomarker_data.append({\n",
    "                'id': row.name,\n",
    "                'time': t,\n",
    "                'biomarker': v\n",
    "            })\n",
    "    \n",
    "    return base_df, pd.DataFrame(biomarker_data)\n",
    "\n",
    "# Generate time-dependent data\n",
    "base_df, biomarker_df = generate_time_dependent_data()\n",
    "\n",
    "# Fit time-dependent Cox model\n",
    "td_cox = cox.fit_time_dependent(\n",
    "    base_df,\n",
    "    biomarker_df,\n",
    "    id_col='id',\n",
    "    time_col='time',\n",
    "    event_col='event',\n",
    "    time_varying_covariates=['biomarker']\n",
    ")\n",
    "\n",
    "print(\"Time-Dependent Cox Model Results:\")\n",
    "print(td_cox.summary())"
   ]
  },
  {
   "cell_type": "markdown",
   "metadata": {},
   "source": [
    "## Competing Risks Analysis\n",
    "\n",
    "Let's analyze data with competing events:"
   ]
  },
  {
   "cell_type": "code",
   "execution_count": null,
   "metadata": {},
   "source": [
    "def generate_competing_risks_data(n_patients=500):\n",
    "    df = generate_survival_data(n_patients)\n",
    "    \n",
    "    # Generate competing event times\n",
    "    competing_times = np.random.exponential(15, n_patients)\n",
    "    \n    # Determine final event type and time\n",
    "    df['competing_time'] = competing_times\n",
    "    df['event_type'] = np.where(\n",
    "        df['time'] <= competing_times,\n",
    "        1,  # Primary event\n",
    "        2   # Competing event\n",
    "    )\n",
    "    df['time'] = np.minimum(df['time'], competing_times)\n",
    "    \n",
    "    return df\n",
    "\n",
    "# Generate competing risks data\n",
    "cr_df = generate_competing_risks_data()\n",
    "\n",
    "# Calculate cumulative incidence functions\n",
    "cif = cox.competing_risks_cif(cr_df, 'time', 'event_type', [1, 2])\n",
    "\n",
    "# Plot cumulative incidence\n",
    "plt.figure(figsize=(10, 6))\n",
    "for event_type, (times, inc) in cif.items():\n",
    "    plt.step(times, inc, label=f'Event {event_type}')\n",
    "\n",
    "plt.xlabel('Time')\n",
    "plt.ylabel('Cumulative Incidence')\n",
    "plt.title('Cumulative Incidence Functions')\n",
    "plt.legend()\n",
    "plt.grid(True, alpha=0.3)\n",
    "plt.show()"
   ]
  },
  {
   "cell_type": "markdown",
   "metadata": {},
   "source": [
    "## Advanced Survival Metrics\n",
    "\n",
    "Let's calculate some advanced survival metrics:"
   ]
  },
  {
   "cell_type": "code",
   "execution_count": null,
   "metadata": {},
   "source": [
    "# Calculate restricted mean survival time\n",
    "rmst = km.restricted_mean_survival_time(tau=5.0)\n",
    "print(f\"Restricted Mean Survival Time (τ=5): {rmst:.2f}\")\n",
    "\n",
    "# Calculate conditional survival probabilities\n",
    "cond_surv = km.conditional_survival(2.0, 5.0)\n",
    "print(f\"Conditional Survival P(T>5|T>2): {cond_surv:.2f}\")\n",
    "\n",
    "# Calculate time-dependent AUC\n",
    "td_auc = cox.time_dependent_auc(times=[1, 2, 3, 4, 5])\n",
    "print(\"\\nTime-dependent AUC:\")\n",
    "for t, auc in td_auc.items():\n",
    "    print(f\"t={t}: {auc:.3f}\")"
   ]
  },
  {
   "cell_type": "markdown",
   "metadata": {},
   "source": [
    "## Conclusion\n",
    "\n",
    "This notebook demonstrated EpiRust's comprehensive survival analysis capabilities:\n",
    "\n",
    "1. Kaplan-Meier estimation with confidence intervals\n",
    "2. Cox proportional hazards modeling\n",
    "3. Time-dependent covariate analysis\n",
    "4. Competing risks analysis\n",
    "5. Advanced survival metrics\n",
    "\n",
    "These tools provide a robust framework for analyzing time-to-event data in epidemiological studies."
   ]
  }
 ],
 "metadata": {
  "kernelspec": {
   "display_name": "Python 3",
   "language": "python",
   "name": "python3"
  },
  "language_info": {
   "codemirror_mode": {
    "name": "ipython",
    "version": 3
   },
   "file_extension": ".py",
   "mimetype": "text/x-python",
   "name": "python",
   "nbconvert_exporter": "python",
   "pygments_lexer": "ipython3",
   "version": "3.11"
  }
 },
 "nbformat": 4,
 "nbformat_minor": 4
}